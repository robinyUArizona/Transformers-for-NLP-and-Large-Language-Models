{
 "cells": [
  {
   "cell_type": "code",
   "execution_count": 1,
   "metadata": {},
   "outputs": [],
   "source": [
    "import os\n",
    "from sklearn.datasets import fetch_20newsgroups\n",
    "import numpy as np\n",
    "import matplotlib.pyplot as plt\n",
    "import seaborn as sns"
   ]
  },
  {
   "cell_type": "code",
   "execution_count": 2,
   "metadata": {},
   "outputs": [
    {
     "name": "stdout",
     "output_type": "stream",
     "text": [
      "newsgroups20\n"
     ]
    }
   ],
   "source": [
    "# Define the path to the 'data' folder located two levels outside the current directory\n",
    "data_folder = os.path.join(os.pardir, os.pardir, 'data')  # Path to two levels up, '../..'\n",
    "newsgroups20_data_path = os.path.join(data_folder, '20newsgroups_data')\n",
    "print(f\"newsgroups20\")"
   ]
  },
  {
   "cell_type": "code",
   "execution_count": 3,
   "metadata": {},
   "outputs": [],
   "source": [
    "# Ensure the 'data' directory exists, if not, create it\n",
    "if not os.path.exists(newsgroups20_data_path):\n",
    "    os.makedirs(newsgroups20_data_path)\n",
    "\n",
    "# Load the 20 Newsgroups dataset\n",
    "try:\n",
    "    newsgroups_train = fetch_20newsgroups(subset='train', shuffle=True, random_state=42, data_home=newsgroups20_data_path)\n",
    "    newsgroups_test = fetch_20newsgroups(subset='test', shuffle=True, random_state=42, data_home=newsgroups20_data_path)\n",
    "except FileNotFoundError:\n",
    "    print(\"Dataset not found in the specified directory.\")\n"
   ]
  },
  {
   "cell_type": "markdown",
   "metadata": {},
   "source": [
    "### Exploring the newsgroups data"
   ]
  },
  {
   "cell_type": "code",
   "execution_count": 4,
   "metadata": {},
   "outputs": [
    {
     "name": "stdout",
     "output_type": "stream",
     "text": [
      "\n",
      "dict_keys(['data', 'filenames', 'target_names', 'target', 'DESCR'])\n",
      "\n",
      "20 newsgroups target name: ['alt.atheism', 'comp.graphics', 'comp.os.ms-windows.misc', 'comp.sys.ibm.pc.hardware', 'comp.sys.mac.hardware', 'comp.windows.x', 'misc.forsale', 'rec.autos', 'rec.motorcycles', 'rec.sport.baseball', 'rec.sport.hockey', 'sci.crypt', 'sci.electronics', 'sci.med', 'sci.space', 'soc.religion.christian', 'talk.politics.guns', 'talk.politics.mideast', 'talk.politics.misc', 'talk.religion.misc']\n",
      "\n",
      "20 newsgroups target key - encoded as an integer: [7 4 4 ... 3 1 8]\n",
      "\n",
      "The range from 0 to 19, 1st, 2nd, .., and 20th newsgroup topics: [ 0  1  2  3  4  5  6  7  8  9 10 11 12 13 14 15 16 17 18 19]\n"
     ]
    }
   ],
   "source": [
    "\"\"\"\n",
    "Exploring the newsgroups data\n",
    "\n",
    "\"\"\"\n",
    "print(f\"\\n{newsgroups_train.keys()}\")\n",
    "print(f\"\\n20 newsgroups target name: {newsgroups_train['target_names']}\")\n",
    "print(f\"\\n20 newsgroups target key - encoded as an integer: {newsgroups_train['target']}\")\n",
    "print(f\"\\nThe range from 0 to 19, 1st, 2nd, .., and 20th newsgroup topics: {np.unique(newsgroups_train['target'])}\")"
   ]
  },
  {
   "cell_type": "code",
   "execution_count": 5,
   "metadata": {},
   "outputs": [
    {
     "data": {
      "image/png": "[encoded data removed]",
      "text/plain": [
       "<Figure size 500x300 with 1 Axes>"
      ]
     },
     "metadata": {},
     "output_type": "display_data"
    }
   ],
   "source": [
    "# Disply the distrbution of the classes\n",
    "plt.figure(figsize=(5,3))\n",
    "sns.histplot(newsgroups_train['target'], bins=20)\n",
    "plt.xticks(range(0, 20, 1))\n",
    "plt.show()"
   ]
  },
  {
   "cell_type": "code",
   "execution_count": 6,
   "metadata": {},
   "outputs": [
    {
     "name": "stdout",
     "output_type": "stream",
     "text": [
      "1st Document: From: lerxst@wam.umd.edu (where's my thing)\n",
      "Subject: WHAT car is this!?\n",
      "Nntp-Posting-Host: rac3.wam.umd.edu\n",
      "Organization: University of Maryland, College Park\n",
      "Lines: 15\n",
      "\n",
      " I was wondering if anyone out there could enlighten me on this car I saw\n",
      "the other day. It was a 2-door sports car, looked to be from the late 60s/\n",
      "early 70s. It was called a Bricklin. The doors were really small. In addition,\n",
      "the front bumper was separate from the rest of the body. This is \n",
      "all I know. If anyone can tellme a model name, engine specs, years\n",
      "of production, where this car is made, history, or whatever info you\n",
      "have on this funky looking car, please e-mail.\n",
      "\n",
      "Thanks,\n",
      "- IL\n",
      "   ---- brought to you by your neighborhood Lerxst ----\n",
      "\n",
      "\n",
      "\n",
      "\n",
      "\n",
      "Topic number: 7 and Topic name: rec.autos\n"
     ]
    }
   ],
   "source": [
    "# let’s have a look at the first document and its topic number and name\n",
    "print(f\"1st Document: {newsgroups_train.data[0]}\")\n",
    "print(f\"Topic number: {newsgroups_train['target'][0]} and Topic name: {newsgroups_train['target_names'][newsgroups_train['target'][0]]}\")"
   ]
  },
  {
   "cell_type": "markdown",
   "metadata": {},
   "source": [
    "**Bag of Words (BoW)**: Counting the occurence of each word token appears in a document"
   ]
  },
  {
   "cell_type": "code",
   "execution_count": 7,
   "metadata": {},
   "outputs": [],
   "source": [
    "from sklearn.feature_extraction.text import CountVectorizer\n",
    "\n",
    "# initialize the count vectorizer with the 500 top features (500 most frequent tokens):\n",
    "count_vector = CountVectorizer(max_features=500)\n",
    "\n",
    "# fit on the raw text data\n",
    "data_count = count_vector.fit_transform(newsgroups_train['data'])"
   ]
  },
  {
   "cell_type": "code",
   "execution_count": 8,
   "metadata": {},
   "outputs": [
    {
     "data": {
      "text/plain": [
       "<11314x500 sparse matrix of type '<class 'numpy.int64'>'\n",
       "\twith 798221 stored elements in Compressed Sparse Row format>"
      ]
     },
     "execution_count": 8,
     "metadata": {},
     "output_type": "execute_result"
    }
   ],
   "source": [
    "data_count"
   ]
  },
  {
   "cell_type": "markdown",
   "metadata": {},
   "source": [
    "The resulting count matrix is a sparse matrix where each row only stores non-zero elements (hence,\n",
    "only 798,221 elements instead of 11314 * 500 = 5,657,000). For example, the first document is\n",
    "converted into a sparse vector composed of 53 non-zero elements."
   ]
  },
  {
   "cell_type": "code",
   "execution_count": 9,
   "metadata": {},
   "outputs": [
    {
     "name": "stdout",
     "output_type": "stream",
     "text": [
      "(11314, 500)\n",
      "\n",
      "(1, 500)\n"
     ]
    }
   ],
   "source": [
    "# print(f\"{data_count}\")\n",
    "print(f\"{data_count.shape}\")\n",
    "# print(f\"\\n{data_count[0]}\")\n",
    "print(f\"\\n{data_count[0].shape}\")"
   ]
  },
  {
   "cell_type": "code",
   "execution_count": 10,
   "metadata": {},
   "outputs": [
    {
     "data": {
      "text/plain": [
       "array([[0, 0, 0, ..., 0, 2, 1],\n",
       "       [0, 0, 0, ..., 0, 1, 1],\n",
       "       [0, 0, 0, ..., 0, 1, 0],\n",
       "       ...,\n",
       "       [0, 0, 0, ..., 1, 1, 0],\n",
       "       [0, 0, 0, ..., 0, 1, 0],\n",
       "       [0, 0, 0, ..., 0, 0, 0]], dtype=int64)"
      ]
     },
     "execution_count": 10,
     "metadata": {},
     "output_type": "execute_result"
    }
   ],
   "source": [
    "data_count.toarray()"
   ]
  },
  {
   "cell_type": "markdown",
   "metadata": {},
   "source": [
    "So, what are those 500 top features? They can be found in the following output:\n"
   ]
  },
  {
   "cell_type": "code",
   "execution_count": 11,
   "metadata": {},
   "outputs": [
    {
     "data": {
      "text/plain": [
       "array(['00', '000', '10', '100', '11', '12', '13', '14', '145', '15',\n",
       "       '16', '17', '18', '19', '1993', '20', '21', '22', '23', '24', '25',\n",
       "       '26', '27', '30', '32', '34', '40', '50', '93', 'a86', 'able',\n",
       "       'about', 'above', 'ac', 'access', 'actually', 'address', 'after',\n",
       "       'again', 'against', 'ago', 'all', 'already', 'also', 'always',\n",
       "       'am', 'american', 'an', 'and', 'andrew', 'another', 'answer',\n",
       "       'any', 'anyone', 'anything', 'apple', 'apr', 'april', 'are',\n",
       "       'armenian', 'around', 'article', 'as', 'ask', 'at', 'au',\n",
       "       'available', 'away', 'ax', 'b8f', 'back', 'bad', 'based', 'be',\n",
       "       'because', 'been', 'before', 'being', 'believe', 'best', 'better',\n",
       "       'between', 'bible', 'big', 'bill', 'bit', 'book', 'both', 'but',\n",
       "       'buy', 'by', 'ca', 'call', 'called', 'came', 'can', 'canada',\n",
       "       'cannot', 'car', 'card', 'case', 'cc', 'center', 'change',\n",
       "       'children', 'chip', 'christian', 'clipper', 'co', 'code', 'color',\n",
       "       'com', 'come', 'computer', 'control', 'could', 'course', 'cs',\n",
       "       'current', 'data', 'david', 'day', 'days', 'de', 'department',\n",
       "       'did', 'didn', 'different', 'disk', 'distribution', 'do', 'does',\n",
       "       'doesn', 'doing', 'don', 'done', 'dos', 'down', 'drive', 'during',\n",
       "       'each', 'edu', 'either', 'else', 'email', 'encryption', 'end',\n",
       "       'enough', 'etc', 'even', 'ever', 'every', 'everything', 'evidence',\n",
       "       'example', 'fact', 'far', 'fax', 'few', 'file', 'files', 'find',\n",
       "       'first', 'following', 'for', 'found', 'free', 'from', 'ftp',\n",
       "       'full', 'g9v', 'game', 'games', 'general', 'get', 'getting',\n",
       "       'give', 'given', 'go', 'god', 'going', 'good', 'got', 'gov',\n",
       "       'government', 'graphics', 'great', 'group', 'gun', 'had', 'hand',\n",
       "       'hard', 'has', 'have', 'having', 'he', 'heard', 'help', 'her',\n",
       "       'here', 'high', 'him', 'his', 'home', 'hope', 'host', 'how',\n",
       "       'however', 'hp', 'human', 'ibm', 'idea', 'if', 'image',\n",
       "       'important', 'in', 'inc', 'info', 'information', 'institute',\n",
       "       'interested', 'internet', 'into', 'is', 'isn', 'israel', 'issue',\n",
       "       'it', 'its', 'jesus', 'jews', 'jim', 'john', 'just', 'keep', 'key',\n",
       "       'keywords', 'kind', 'know', 'large', 'last', 'law', 'least',\n",
       "       'left', 'less', 'let', 'life', 'like', 'line', 'lines', 'list',\n",
       "       'little', 'live', 'll', 'local', 'long', 'look', 'looking', 'lot',\n",
       "       'mac', 'made', 'mail', 'make', 'makes', 'man', 'many', 'mark',\n",
       "       'max', 'may', 'maybe', 'me', 'mean', 'means', 'memory', 'message',\n",
       "       'michael', 'might', 'mike', 'mit', 'money', 'more', 'most', 'mr',\n",
       "       'much', 'must', 'my', 'name', 'nasa', 'national', 'need', 'net',\n",
       "       'netcom', 'never', 'new', 'news', 'next', 'nntp', 'no', 'non',\n",
       "       'not', 'note', 'nothing', 'now', 'number', 'of', 'off', 'old',\n",
       "       'on', 'once', 'one', 'only', 'open', 'opinions', 'or', 'order',\n",
       "       'org', 'organization', 'other', 'others', 'our', 'out', 'over',\n",
       "       'own', 'part', 'paul', 'pc', 'people', 'perhaps', 'person',\n",
       "       'phone', 'pl', 'place', 'play', 'please', 'point', 'possible',\n",
       "       'post', 'posting', 'power', 'president', 'pretty', 'price',\n",
       "       'probably', 'problem', 'problems', 'program', 'public', 'put',\n",
       "       'question', 'questions', 'quite', 'rather', 're', 'read', 'real',\n",
       "       'really', 'reason', 'remember', 'reply', 'research', 'right',\n",
       "       'rights', 'robert', 'run', 'running', 'said', 'sale', 'same',\n",
       "       'say', 'saying', 'says', 'science', 'scsi', 'second', 'see',\n",
       "       'seem', 'seems', 'seen', 'send', 'server', 'set', 'several', 'she',\n",
       "       'should', 'show', 'side', 'since', 'small', 'so', 'software',\n",
       "       'some', 'someone', 'something', 'source', 'space', 'speed',\n",
       "       'standard', 'start', 'state', 'states', 'steve', 'still', 'stuff',\n",
       "       'subject', 'such', 'sun', 'support', 'sure', 'system', 'systems',\n",
       "       'take', 'team', 'technology', 'tell', 'than', 'thanks', 'that',\n",
       "       'the', 'their', 'them', 'then', 'there', 'these', 'they', 'thing',\n",
       "       'things', 'think', 'this', 'those', 'though', 'thought', 'three',\n",
       "       'through', 'time', 'times', 'to', 'today', 'told', 'too', 'true',\n",
       "       'try', 'trying', 'turkish', 'two', 'type', 'uiuc', 'uk', 'under',\n",
       "       'university', 'unix', 'until', 'up', 'us', 'usa', 'use', 'used',\n",
       "       'using', 'uucp', 've', 'version', 'very', 'vs', 'want', 'war',\n",
       "       'was', 'washington', 'way', 'we', 'well', 'were', 'what', 'when',\n",
       "       'where', 'whether', 'which', 'while', 'who', 'whole', 'why',\n",
       "       'will', 'win', 'window', 'windows', 'with', 'without', 'won',\n",
       "       'word', 'work', 'works', 'world', 'would', 'writes', 'wrong',\n",
       "       'wrote', 'year', 'years', 'yes', 'yet', 'you', 'your'],\n",
       "      dtype=object)"
      ]
     },
     "execution_count": 11,
     "metadata": {},
     "output_type": "execute_result"
    }
   ],
   "source": [
    "count_vector.get_feature_names_out()"
   ]
  },
  {
   "cell_type": "markdown",
   "metadata": {},
   "source": [
    "#### Text processing\n",
    "We begin by retaining letter-only words so that numbers such as 00 and 000 and combinations of\n",
    "letters and numbers such as b8f will be removed."
   ]
  },
  {
   "cell_type": "code",
   "execution_count": 12,
   "metadata": {},
   "outputs": [],
   "source": [
    "def retain_letter_only(docs):\n",
    "    data_clean = []\n",
    "    for doc in docs:\n",
    "        doc_cleaned = ' '.join(word for word in doc.split() if word.isalpha())\n",
    "        data_clean.append(doc_cleaned)\n",
    "    return data_clean\n",
    "\n",
    "data_cleaned = retain_letter_only(newsgroups_train['data'])"
   ]
  },
  {
   "cell_type": "markdown",
   "metadata": {},
   "source": [
    "Putting all of these (preprocessing, dropping stop words, lemmatizing, and count vectorizing) together"
   ]
  },
  {
   "cell_type": "code",
   "execution_count": 13,
   "metadata": {},
   "outputs": [
    {
     "name": "stdout",
     "output_type": "stream",
     "text": [
      "showing info https://raw.githubusercontent.com/nltk/nltk_data/gh-pages/index.xml\n",
      "['Abagael', 'Abagail', 'Abbe', 'Abbey', 'Abbi', 'Abbie', 'Abby', 'Abigael', 'Abigail', 'Abigale']\n",
      "7944\n",
      "machine\n"
     ]
    }
   ],
   "source": [
    "import nltk\n",
    "nltk.download()\n",
    "\n",
    "# import the names corpus\n",
    "from nltk.corpus import names\n",
    "print(f\"{names.words()[:10]}\")\n",
    "print(len(names.words()))\n",
    "\n",
    "# import a lemmatization algorithm based on the built-in WordNet corpus\n",
    "from nltk.stem import WordNetLemmatizer\n",
    "lemmatizer = WordNetLemmatizer()\n",
    "print(f\"{lemmatizer.lemmatize('machines')}\")"
   ]
  },
  {
   "cell_type": "code",
   "execution_count": 14,
   "metadata": {},
   "outputs": [],
   "source": [
    "all_names = set(names.words())\n",
    "def get_cleaned_data(groups, lemmatizer, remove_names):\n",
    "    data_cleaned = []\n",
    "    for doc in groups['data']:\n",
    "        doc = doc.lower()\n",
    "        doc_cleaned = ' '.join(lemmatizer.lemmatize(word)\n",
    "                                for word in doc.split()\n",
    "                                if word.isalpha() and word not in remove_names)\n",
    "        data_cleaned.append(doc_cleaned)\n",
    "    return data_cleaned\n",
    "\n",
    "data_cleaned = get_cleaned_data(newsgroups_train, lemmatizer, all_names)\n",
    "\n",
    "# Dropping stop words\n",
    "from sklearn.feature_extraction import _stop_words\n",
    "count_vector_sw = CountVectorizer(stop_words=\"english\", max_features=500)\n",
    "data_cleaned_count = count_vector_sw.fit_transform(data_cleaned)"
   ]
  },
  {
   "cell_type": "markdown",
   "metadata": {},
   "source": [
    "Now the features are much more meaningful"
   ]
  },
  {
   "cell_type": "code",
   "execution_count": 15,
   "metadata": {},
   "outputs": [
    {
     "name": "stdout",
     "output_type": "stream",
     "text": [
      "Number of word tokens: 500\n"
     ]
    }
   ],
   "source": [
    "# converted text from each raw newsgroup document into a sparse vector of size 500.\n",
    "# print(count_vector_sw.get_feature_names_out())\n",
    "# Number of word tokens i.e. 500\n",
    "print(f\"Number of word tokens: {len(count_vector_sw.get_feature_names_out())}\")"
   ]
  },
  {
   "cell_type": "markdown",
   "metadata": {},
   "source": [
    "### Visualizing the newsgroups data with t-SNE\n",
    "- `t-SNE` stands for t-distributed Stochastic Neighbor Embedding"
   ]
  },
  {
   "cell_type": "code",
   "execution_count": 16,
   "metadata": {},
   "outputs": [],
   "source": [
    "from sklearn.manifold import TSNE"
   ]
  },
  {
   "cell_type": "markdown",
   "metadata": {},
   "source": [
    "pick three distinct topics, talk.religion.misc, comp.graphics, and sci.space"
   ]
  },
  {
   "cell_type": "code",
   "execution_count": 17,
   "metadata": {},
   "outputs": [],
   "source": [
    "categories_3 = ['talk.religion.misc', 'comp.graphics', 'sci.space']\n",
    "groups_3 = fetch_20newsgroups(categories=categories_3)\n",
    "data_cleaned = get_cleaned_data(groups_3, lemmatizer, all_names)\n",
    "data_cleaned_count_3 = count_vector_sw.fit_transform(data_cleaned)"
   ]
  },
  {
   "cell_type": "markdown",
   "metadata": {},
   "source": [
    "we apply t-SNE to reduce the 500-dimensional matrix to a two-dimensional matrix:"
   ]
  },
  {
   "cell_type": "code",
   "execution_count": 19,
   "metadata": {
    "scrolled": true
   },
   "outputs": [],
   "source": [
    "# tsne_model = TSNE(n_components=2, perplexity=40, random_state=42, learning_rate=500)\n",
    "# data_tsne = tsne_model.fit_transform(data_cleaned_count_3.toarray())"
   ]
  },
  {
   "cell_type": "markdown",
   "metadata": {},
   "source": [
    "- n_components: The output dimension\n",
    "- perplexity: The number of nearest data points considered neighbors in the algorithm with\n",
    "a typical value of between 5 and 50\n",
    "- random_state: The random seed for program reproducibility\n",
    "- learning_rate: The factor affecting the process of finding the optimal mapping space with a\n",
    "typical value of between 10 and 1,000\n",
    "\n",
    "Note that the TSNE object only takes in a dense matrix, hence we convert the sparse matrix, data_\n",
    "cleaned_count_3, into a dense one using toarray()."
   ]
  },
  {
   "cell_type": "markdown",
   "metadata": {},
   "source": [
    "### Word Embedding\n",
    "Word count representation results in a high-dimensional, sparse vector where each element represents\n",
    "the frequency of a specific word. Recall that we only looked at the 500 most frequent words previously\n",
    "to avoid this issue. Otherwise, we would have to represent each document with a vector of more than\n",
    "1 million dimensions (depending on the size of the vocabulary). Also, word count representation lacks\n",
    "the ability to capture the semantics or context of words. It only considers the frequency of words in\n",
    "a document or corpus. On the contrary, word embedding represents words in a dense (continuous)\n",
    "vector space."
   ]
  },
  {
   "cell_type": "code",
   "execution_count": null,
   "metadata": {},
   "outputs": [],
   "source": []
  }
 ],
 "metadata": {
  "kernelspec": {
   "display_name": "nlp_env",
   "language": "python",
   "name": "nlp_env"
  },
  "language_info": {
   "codemirror_mode": {
    "name": "ipython",
    "version": 3
   },
   "file_extension": ".py",
   "mimetype": "text/x-python",
   "name": "python",
   "nbconvert_exporter": "python",
   "pygments_lexer": "ipython3",
   "version": "3.12.7"
  }
 },
 "nbformat": 4,
 "nbformat_minor": 4
}
